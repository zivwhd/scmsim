{
 "cells": [
  {
   "cell_type": "code",
   "execution_count": 2,
   "id": "71bb18c0-62b0-4501-8807-07f736ac3d17",
   "metadata": {},
   "outputs": [
    {
     "name": "stdout",
     "output_type": "stream",
     "text": [
      "current dir:  c:\\Projects\\scmsim\n"
     ]
    }
   ],
   "source": [
    "import os\n",
    "try:\n",
    "    %run setup_paths\n",
    "except:\n",
    "    %run notebooks/setup_paths\n",
    "    \n",
    "print(\"current dir: \", os.getcwd())"
   ]
  },
  {
   "cell_type": "code",
   "execution_count": 11,
   "id": "8c937af0-4e9f-4909-b5f9-402e3e3f46a4",
   "metadata": {},
   "outputs": [],
   "source": [
    "%run src/scm\n",
    "\n",
    "logging.basicConfig(\n",
    "    level=logging.INFO,  # or DEBUG, WARNING, etc.\n",
    "    format='%(asctime)s - %(levelname)s - %(message)s',\n",
    "    stream=sys.stdout\n",
    ")\n",
    "\n",
    "\n"
   ]
  },
  {
   "cell_type": "code",
   "execution_count": 12,
   "id": "c18d1630-23db-4696-97d9-42600c488e02",
   "metadata": {},
   "outputs": [],
   "source": [
    "def show(**kwargs):\n",
    "    return pd.DataFrame({k:v.unsqueeze(0) for k,v in kwargs.items()})"
   ]
  },
  {
   "cell_type": "markdown",
   "id": "ef914979-30c6-4d9f-98c3-33bc492d0bc9",
   "metadata": {},
   "source": [
    "## Sanity - No causality\n",
    "(Two items of the same gerne)"
   ]
  },
  {
   "cell_type": "code",
   "execution_count": 13,
   "id": "61908177-ab15-42fc-8b48-d9d5b59aef12",
   "metadata": {},
   "outputs": [
    {
     "name": "stdout",
     "output_type": "stream",
     "text": [
      "2025-07-26 16:31:38,571 - INFO - U : f(['N'])\n",
      "2025-07-26 16:31:38,573 - INFO - T : f(['N', 'U'])\n",
      "2025-07-26 16:31:38,574 - INFO - Y : f(['N', 'U', 'T'])\n",
      "2025-07-26 16:31:38,576 - INFO - fitting model for propensity: 'propensity'\n",
      "2025-07-26 16:31:38,662 - INFO - fitting model for imputation\n"
     ]
    },
    {
     "data": {
      "text/html": [
       "<div>\n",
       "<style scoped>\n",
       "    .dataframe tbody tr th:only-of-type {\n",
       "        vertical-align: middle;\n",
       "    }\n",
       "\n",
       "    .dataframe tbody tr th {\n",
       "        vertical-align: top;\n",
       "    }\n",
       "\n",
       "    .dataframe thead th {\n",
       "        text-align: right;\n",
       "    }\n",
       "</style>\n",
       "<table border=\"1\" class=\"dataframe\">\n",
       "  <thead>\n",
       "    <tr style=\"text-align: right;\">\n",
       "      <th></th>\n",
       "      <th>Naive</th>\n",
       "      <th>ATE_Stratified</th>\n",
       "      <th>ATE_Propensity</th>\n",
       "      <th>ATE_Impute</th>\n",
       "    </tr>\n",
       "  </thead>\n",
       "  <tbody>\n",
       "    <tr>\n",
       "      <th>0</th>\n",
       "      <td>0.249333</td>\n",
       "      <td>-0.000694</td>\n",
       "      <td>-0.000634</td>\n",
       "      <td>-0.000691</td>\n",
       "    </tr>\n",
       "  </tbody>\n",
       "</table>\n",
       "</div>"
      ],
      "text/plain": [
       "      Naive  ATE_Stratified  ATE_Propensity  ATE_Impute\n",
       "0  0.249333       -0.000694       -0.000634   -0.000691"
      ]
     },
     "execution_count": 13,
     "metadata": {},
     "output_type": "execute_result"
    }
   ],
   "source": [
    "SCM = {\n",
    "    \"U\" : lambda N: (torch.rand(N) < 0.5)*1.0,\n",
    "    \"T\" : lambda N, U: (torch.rand(N) < (0.2 + 0.5*U))*1.0,\n",
    "    \"Y\" : lambda N, U, T: (torch.rand(N) < (0.2 + 0.5*U))*1.0\n",
    "}\n",
    "values = eval_scm(SCM, 100000)\n",
    "enrich_propensity(values, \"T\", [\"U\"])#, model=GradientBoostingClassifier(n_estimators=100, learning_rate=0.1, max_depth=3))\n",
    "\n",
    "# GradientBoostingClassifier(n_estimators=100, learning_rate=0.1, max_depth=3)\n",
    "\n",
    "show(Naive=CondMeanDiff(\"T\",\"Y\")(values),\n",
    "     ATE_Stratified=ATEStratified(\"T\",\"Y\", SplitStratify(\"U\",[0.5]))(values),\n",
    "     ATE_Propensity=ATEPropensity(\"T\",\"Y\", \"propensity\")(values),\n",
    "     ATE_Impute=ATEImpute(\"T\",\"Y\",[\"U\"])(values))\n",
    "\n"
   ]
  },
  {
   "cell_type": "markdown",
   "id": "97369f71-c8cf-4062-ba9c-3dec840e680b",
   "metadata": {},
   "source": [
    "## Causality with Confounder"
   ]
  },
  {
   "cell_type": "code",
   "execution_count": 14,
   "id": "2884e8df-31b2-4e38-a30a-8dbd2d247054",
   "metadata": {},
   "outputs": [
    {
     "name": "stdout",
     "output_type": "stream",
     "text": [
      "2025-07-26 16:31:39,442 - INFO - U : f(['N'])\n",
      "2025-07-26 16:31:39,442 - INFO - T : f(['N', 'U'])\n",
      "2025-07-26 16:31:39,442 - INFO - Y : f(['N', 'U', 'T'])\n",
      "2025-07-26 16:31:39,442 - INFO - fitting model for propensity: 'propensity'\n",
      "2025-07-26 16:31:39,515 - INFO - fitting model for imputation\n"
     ]
    },
    {
     "data": {
      "text/html": [
       "<div>\n",
       "<style scoped>\n",
       "    .dataframe tbody tr th:only-of-type {\n",
       "        vertical-align: middle;\n",
       "    }\n",
       "\n",
       "    .dataframe tbody tr th {\n",
       "        vertical-align: top;\n",
       "    }\n",
       "\n",
       "    .dataframe thead th {\n",
       "        text-align: right;\n",
       "    }\n",
       "</style>\n",
       "<table border=\"1\" class=\"dataframe\">\n",
       "  <thead>\n",
       "    <tr style=\"text-align: right;\">\n",
       "      <th></th>\n",
       "      <th>Naive</th>\n",
       "      <th>ATE_Stratified</th>\n",
       "      <th>ATE_Propensity</th>\n",
       "      <th>ATE_Impute</th>\n",
       "    </tr>\n",
       "  </thead>\n",
       "  <tbody>\n",
       "    <tr>\n",
       "      <th>0</th>\n",
       "      <td>0.471822</td>\n",
       "      <td>0.198087</td>\n",
       "      <td>0.198185</td>\n",
       "      <td>0.198088</td>\n",
       "    </tr>\n",
       "  </tbody>\n",
       "</table>\n",
       "</div>"
      ],
      "text/plain": [
       "      Naive  ATE_Stratified  ATE_Propensity  ATE_Impute\n",
       "0  0.471822        0.198087        0.198185    0.198088"
      ]
     },
     "execution_count": 14,
     "metadata": {},
     "output_type": "execute_result"
    }
   ],
   "source": [
    "SCM = {\n",
    "    \"U\" : lambda N: (torch.rand(N) < 0.5)*1.0,\n",
    "    \"T\" : lambda N, U: (torch.rand(N) < (0.1 + 0.5*U))*1.0,\n",
    "    \"Y\" : lambda N, U, T: (torch.rand(N) < (0.1 + 0.5*U + 0.2*T))*1.0\n",
    "}\n",
    "values = eval_scm(SCM, 100000)\n",
    "enrich_propensity(values, \"T\", [\"U\"])#, model=GradientBoostingClassifier(n_estimators=100, learning_rate=0.1, max_depth=3))\n",
    "\n",
    "# GradientBoostingClassifier(n_estimators=100, learning_rate=0.1, max_depth=3)\n",
    "\n",
    "show(Naive=CondMeanDiff(\"T\",\"Y\")(values),\n",
    "     ATE_Stratified=ATEStratified(\"T\",\"Y\", SplitStratify(\"U\",[0.5]))(values),\n",
    "     ATE_Propensity=ATEPropensity(\"T\",\"Y\", \"propensity\")(values),\n",
    "     ATE_Impute=ATEImpute(\"T\",\"Y\",[\"U\"])(values))\n"
   ]
  },
  {
   "cell_type": "markdown",
   "id": "acb5da15-ab0f-40fc-8486-1d8eb8931f86",
   "metadata": {},
   "source": [
    "## Causality with a weak Confounder\n",
    "(For example Godfather-I, Godfather II)"
   ]
  },
  {
   "cell_type": "code",
   "execution_count": 15,
   "id": "0e4c5bea-d5d6-43b9-8bde-04e1a0dff03d",
   "metadata": {},
   "outputs": [
    {
     "name": "stdout",
     "output_type": "stream",
     "text": [
      "2025-07-26 16:31:40,286 - INFO - U : f(['N'])\n",
      "2025-07-26 16:31:40,287 - INFO - T : f(['N', 'U'])\n",
      "2025-07-26 16:31:40,289 - INFO - Y : f(['N', 'U', 'T'])\n",
      "2025-07-26 16:31:40,290 - INFO - fitting model for propensity: 'propensity'\n",
      "2025-07-26 16:31:40,354 - INFO - fitting model for imputation\n"
     ]
    },
    {
     "data": {
      "text/html": [
       "<div>\n",
       "<style scoped>\n",
       "    .dataframe tbody tr th:only-of-type {\n",
       "        vertical-align: middle;\n",
       "    }\n",
       "\n",
       "    .dataframe tbody tr th {\n",
       "        vertical-align: top;\n",
       "    }\n",
       "\n",
       "    .dataframe thead th {\n",
       "        text-align: right;\n",
       "    }\n",
       "</style>\n",
       "<table border=\"1\" class=\"dataframe\">\n",
       "  <thead>\n",
       "    <tr style=\"text-align: right;\">\n",
       "      <th></th>\n",
       "      <th>Naive</th>\n",
       "      <th>ATE_Stratified</th>\n",
       "      <th>ATE_Propensity</th>\n",
       "      <th>ATE_Impute</th>\n",
       "    </tr>\n",
       "  </thead>\n",
       "  <tbody>\n",
       "    <tr>\n",
       "      <th>0</th>\n",
       "      <td>0.523457</td>\n",
       "      <td>0.495429</td>\n",
       "      <td>0.495439</td>\n",
       "      <td>0.495422</td>\n",
       "    </tr>\n",
       "  </tbody>\n",
       "</table>\n",
       "</div>"
      ],
      "text/plain": [
       "      Naive  ATE_Stratified  ATE_Propensity  ATE_Impute\n",
       "0  0.523457        0.495429        0.495439    0.495422"
      ]
     },
     "execution_count": 15,
     "metadata": {},
     "output_type": "execute_result"
    }
   ],
   "source": [
    "SCM = {\n",
    "    \"U\" : lambda N: (torch.rand(N) < 0.5)*1.0,\n",
    "    \"T\" : lambda N, U: (torch.rand(N) < (0.1 + 0.5*U))*1.0,\n",
    "    \"Y\" : lambda N, U, T: (torch.rand(N) < (0.05 + 0.05*U  + 0.5*T))*1.0\n",
    "}\n",
    "values = eval_scm(SCM, 100000)\n",
    "enrich_propensity(values, \"T\", [\"U\"])#, model=GradientBoostingClassifier(n_estimators=100, learning_rate=0.1, max_depth=3))\n",
    "\n",
    "\n",
    "show(Naive=CondMeanDiff(\"T\",\"Y\")(values),\n",
    "     ATE_Stratified=ATEStratified(\"T\",\"Y\", SplitStratify(\"U\",[0.5]))(values),\n",
    "     ATE_Propensity=ATEPropensity(\"T\",\"Y\", \"propensity\")(values),\n",
    "     ATE_Impute=ATEImpute(\"T\",\"Y\",[\"U\"])(values))\n"
   ]
  },
  {
   "cell_type": "markdown",
   "id": "95794a46-4cd9-4388-a118-01029e6cc7ef",
   "metadata": {},
   "source": [
    "## Information Leakage"
   ]
  },
  {
   "cell_type": "code",
   "execution_count": 16,
   "id": "d4a498f3-1b25-4f88-8256-ce644c4c3feb",
   "metadata": {},
   "outputs": [
    {
     "name": "stdout",
     "output_type": "stream",
     "text": [
      "2025-07-26 16:31:41,101 - INFO - U : f(['N'])\n",
      "2025-07-26 16:31:41,103 - INFO - T : f(['N', 'U'])\n",
      "2025-07-26 16:31:41,103 - INFO - Y : f(['N', 'U', 'T'])\n",
      "2025-07-26 16:31:41,105 - INFO - Leakage : f(['N', 'T', 'Y'])\n",
      "2025-07-26 16:31:41,106 - INFO - fitting model for propensity: 'propensity'\n",
      "2025-07-26 16:31:41,282 - INFO - fitting model for propensity: 'propensity_leakage'\n",
      "2025-07-26 16:31:41,492 - INFO - fitting model for imputation\n",
      "2025-07-26 16:31:41,604 - INFO - fitting model for imputation\n"
     ]
    },
    {
     "data": {
      "text/html": [
       "<div>\n",
       "<style scoped>\n",
       "    .dataframe tbody tr th:only-of-type {\n",
       "        vertical-align: middle;\n",
       "    }\n",
       "\n",
       "    .dataframe tbody tr th {\n",
       "        vertical-align: top;\n",
       "    }\n",
       "\n",
       "    .dataframe thead th {\n",
       "        text-align: right;\n",
       "    }\n",
       "</style>\n",
       "<table border=\"1\" class=\"dataframe\">\n",
       "  <thead>\n",
       "    <tr style=\"text-align: right;\">\n",
       "      <th></th>\n",
       "      <th>Naive</th>\n",
       "      <th>ATE_Propensity</th>\n",
       "      <th>ATE_Impute</th>\n",
       "      <th>ATE_Propensity_Leakage</th>\n",
       "      <th>ATE_Impute_Leakage</th>\n",
       "    </tr>\n",
       "  </thead>\n",
       "  <tbody>\n",
       "    <tr>\n",
       "      <th>0</th>\n",
       "      <td>0.69138</td>\n",
       "      <td>0.500198</td>\n",
       "      <td>0.500184</td>\n",
       "      <td>0.499534</td>\n",
       "      <td>0.432704</td>\n",
       "    </tr>\n",
       "  </tbody>\n",
       "</table>\n",
       "</div>"
      ],
      "text/plain": [
       "     Naive  ATE_Propensity  ATE_Impute  ATE_Propensity_Leakage  \\\n",
       "0  0.69138        0.500198    0.500184                0.499534   \n",
       "\n",
       "   ATE_Impute_Leakage  \n",
       "0            0.432704  "
      ]
     },
     "execution_count": 16,
     "metadata": {},
     "output_type": "execute_result"
    }
   ],
   "source": [
    "SCM = {\n",
    "    \"U\" : lambda N: (torch.rand(N) < 0.5)*1.0,\n",
    "    \"T\" : lambda N, U: (torch.rand(N) < (0.1 + 0.4*U))*1.0,\n",
    "    \"Y\" : lambda N, U, T: (torch.rand(N) < (0.1 + 0.4*U  + 0.5*T))*1.0,\n",
    "    \"Leakage\" : lambda N, T, Y: (T+Y) * (torch.rand(N) < 0.3) \n",
    "}\n",
    "\n",
    "values = eval_scm(SCM, 10000)\n",
    "enrich_propensity(values, \"T\", [\"U\"], \"propensity\", model=GradientBoostingClassifier(n_estimators=100, learning_rate=0.1, max_depth=3))\n",
    "enrich_propensity(values, \"T\", [\"U\",\"Leakage\"], \"propensity_leakage\", model=GradientBoostingClassifier(n_estimators=100, learning_rate=0.1, max_depth=3))\n",
    "\n",
    "mgen = lambda: GradientBoostingRegressor(n_estimators=100, learning_rate=0.1, max_depth=3)\n",
    "\n",
    "show(Naive=CondMeanDiff(\"T\",\"Y\")(values),\n",
    "     ATE_Propensity=ATEPropensity(\"T\",\"Y\", \"propensity\")(values),\n",
    "     ATE_Impute=ATEImpute(\"T\",\"Y\",[\"U\"], mgen=mgen)(values),\n",
    "     ATE_Propensity_Leakage=ATEPropensity(\"T\",\"Y\", \"propensity_leakage\")(values),\n",
    "     ATE_Impute_Leakage=ATEImpute(\"T\",\"Y\",[\"U\",\"Leakage\"], mgen=mgen)(values))\n",
    "     \n"
   ]
  },
  {
   "cell_type": "markdown",
   "id": "013328e8-ac42-453f-a164-69f103cbe862",
   "metadata": {},
   "source": [
    "## Bidirectional Causality\n",
    "\n",
    "Movie A can appear before or after Movie B"
   ]
  },
  {
   "cell_type": "code",
   "execution_count": 17,
   "id": "caa911bd-2c68-4051-86e3-edd24e0db5d3",
   "metadata": {},
   "outputs": [
    {
     "name": "stdout",
     "output_type": "stream",
     "text": [
      "2025-07-26 16:31:41,763 - INFO - R1 : f(['N'])\n",
      "2025-07-26 16:31:41,764 - INFO - R2 : f(['N'])\n",
      "2025-07-26 16:31:41,766 - INFO - U : f(['N'])\n",
      "2025-07-26 16:31:41,768 - INFO - A1 : f(['N', 'U', 'R1'])\n",
      "2025-07-26 16:31:41,769 - INFO - B : f(['N', 'U', 'A1', 'R2'])\n",
      "2025-07-26 16:31:41,770 - INFO - A2 : f(['N', 'U', 'A1', 'B'])\n",
      "2025-07-26 16:31:41,772 - INFO - A : f(['A1', 'A2'])\n",
      "2025-07-26 16:31:41,773 - INFO - Calculating ground truth\n",
      "2025-07-26 16:31:41,773 - INFO - DO A1\n",
      "2025-07-26 16:31:41,774 - INFO - A1 : f(['N'])\n",
      "2025-07-26 16:31:41,774 - INFO - B : f(['N', 'U', 'A1', 'R2'])\n",
      "2025-07-26 16:31:41,774 - INFO - A2 : f(['N', 'U', 'A1', 'B'])\n",
      "2025-07-26 16:31:41,774 - INFO - A : f(['A1', 'A2'])\n",
      "2025-07-26 16:31:41,774 - INFO - DO A1\n",
      "2025-07-26 16:31:41,774 - INFO - A1 : f(['N'])\n",
      "2025-07-26 16:31:41,781 - INFO - B : f(['N', 'U', 'A1', 'R2'])\n",
      "2025-07-26 16:31:41,781 - INFO - A2 : f(['N', 'U', 'A1', 'B'])\n",
      "2025-07-26 16:31:41,781 - INFO - A : f(['A1', 'A2'])\n",
      "2025-07-26 16:31:41,781 - INFO - fitting model for propensity: 'propensity'\n",
      "2025-07-26 16:31:41,831 - INFO - fitting model for propensity: 'propensity_alt'\n",
      "2025-07-26 16:31:41,899 - INFO - fitting model for imputation\n",
      "2025-07-26 16:31:42,699 - INFO - fitting model for imputation\n"
     ]
    },
    {
     "data": {
      "text/html": [
       "<div>\n",
       "<style scoped>\n",
       "    .dataframe tbody tr th:only-of-type {\n",
       "        vertical-align: middle;\n",
       "    }\n",
       "\n",
       "    .dataframe tbody tr th {\n",
       "        vertical-align: top;\n",
       "    }\n",
       "\n",
       "    .dataframe thead th {\n",
       "        text-align: right;\n",
       "    }\n",
       "</style>\n",
       "<table border=\"1\" class=\"dataframe\">\n",
       "  <thead>\n",
       "    <tr style=\"text-align: right;\">\n",
       "      <th></th>\n",
       "      <th>GroundTruth</th>\n",
       "      <th>Naive</th>\n",
       "      <th>ATE_Stratified</th>\n",
       "      <th>ATE_Propensity</th>\n",
       "      <th>ATE_Impute</th>\n",
       "      <th>ATE_Propensity_Alt</th>\n",
       "      <th>ATE_Propensity_Filtered</th>\n",
       "      <th>ATE_Impute_TisA</th>\n",
       "    </tr>\n",
       "  </thead>\n",
       "  <tbody>\n",
       "    <tr>\n",
       "      <th>0</th>\n",
       "      <td>0.4009</td>\n",
       "      <td>0.59334</td>\n",
       "      <td>0.402746</td>\n",
       "      <td>0.402812</td>\n",
       "      <td>0.402742</td>\n",
       "      <td>0.336022</td>\n",
       "      <td>0.616972</td>\n",
       "      <td>0.496424</td>\n",
       "    </tr>\n",
       "  </tbody>\n",
       "</table>\n",
       "</div>"
      ],
      "text/plain": [
       "   GroundTruth    Naive  ATE_Stratified  ATE_Propensity  ATE_Impute  \\\n",
       "0       0.4009  0.59334        0.402746        0.402812    0.402742   \n",
       "\n",
       "   ATE_Propensity_Alt  ATE_Propensity_Filtered  ATE_Impute_TisA  \n",
       "0            0.336022                 0.616972         0.496424  "
      ]
     },
     "execution_count": 17,
     "metadata": {},
     "output_type": "execute_result"
    }
   ],
   "source": [
    "\n",
    "SCM = {\n",
    "    \"R1\" : lambda N: torch.rand(N),\n",
    "    \"R2\" : lambda N: torch.rand(N),\n",
    "    \"U\" :  lambda N: (torch.rand(N) < 0.5)*1.0,\n",
    "    \"A1\":  lambda N, U, R1: (R1 < (0.1 + 0.4*U))*1.0,\n",
    "    \"B\" :  lambda N, U, A1, R2: (R2 < (0.1 + 0.4*U + 0.4*A1))*1.0,\n",
    "    \"A2\":  lambda N, U, A1, B: torch.where(A1>0.5, torch.zeros(N), (torch.rand(N) < (0.1 + 0.4*U + 0.4*B))*1.0),\n",
    "    \"A\" :  lambda A1, A2: (A1+A2 > 0.5) * 1.0\n",
    "}\n",
    "\n",
    "values = eval_scm(SCM, 100000)\n",
    "\n",
    "ground_truth = ground_truth_ate(SCM, values, \"A1\",\"B\")\n",
    "\n",
    "enrich_propensity(values, \"A1\", [\"U\"])\n",
    "enrich_propensity(values, \"A\", [\"U\"], \"propensity_alt\")\n",
    "\n",
    "\n",
    "show(GroundTruth=ground_truth, \n",
    "     Naive=CondMeanDiff(\"A1\",\"B\")(values),\n",
    "     ATE_Stratified=ATEStratified(\"A1\",\"B\", SplitStratify(\"U\",[0.5]))(values),\n",
    "     ATE_Propensity=ATEPropensity(\"A1\",\"B\", \"propensity\")(values),\n",
    "     ATE_Impute=ATEImpute(\"A1\",\"B\",[\"U\"])(values),\n",
    "     ATE_Propensity_Alt=ATEPropensity(\"A1\",\"B\", \"propensity_alt\")(values),\n",
    "     ATE_Propensity_Filtered=ATEPropensity(\"A\",\"B\", \"propensity\")(apply_filter(values, (values[\"A2\"] < 0.5))),\n",
    "     ATE_Impute_TisA=ATEImpute(\"A\",\"B\",[\"U\"])(values),\n",
    "    )\n",
    "\n"
   ]
  },
  {
   "cell_type": "code",
   "execution_count": null,
   "id": "5c76a3a7-7561-49ae-b7bc-49adf3d12f33",
   "metadata": {},
   "outputs": [],
   "source": []
  },
  {
   "cell_type": "code",
   "execution_count": null,
   "id": "950accbf-3b6d-4b12-9254-16f9afffcbd1",
   "metadata": {},
   "outputs": [],
   "source": []
  },
  {
   "cell_type": "code",
   "execution_count": null,
   "id": "7cdc813d-0ea3-4be5-8059-35ef2e20a7fc",
   "metadata": {},
   "outputs": [],
   "source": []
  }
 ],
 "metadata": {
  "kernelspec": {
   "display_name": "Python 3 (ipykernel)",
   "language": "python",
   "name": "python3"
  },
  "language_info": {
   "codemirror_mode": {
    "name": "ipython",
    "version": 3
   },
   "file_extension": ".py",
   "mimetype": "text/x-python",
   "name": "python",
   "nbconvert_exporter": "python",
   "pygments_lexer": "ipython3",
   "version": "3.8.19"
  }
 },
 "nbformat": 4,
 "nbformat_minor": 5
}
