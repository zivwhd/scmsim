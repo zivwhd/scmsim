{
 "cells": [
  {
   "cell_type": "code",
   "execution_count": 1,
   "id": "63e22bec-7a13-4c3c-b959-d1282fa0db2f",
   "metadata": {},
   "outputs": [
    {
     "name": "stdout",
     "output_type": "stream",
     "text": [
      "2025-08-10 20:41:46,071 - INFO - current dir: c:\\Projects\\scmsim\n"
     ]
    }
   ],
   "source": [
    "import os\n",
    "import torch\n",
    "import gc\n",
    "import logging\n",
    "\n",
    "gc.collect()\n",
    "if torch.cuda.is_available():\n",
    "    torch.cuda.empty_cache()        \n",
    "    torch.cuda.ipc_collect()\n",
    "\n",
    "\n",
    "try:\n",
    "    %run setup_paths\n",
    "except:\n",
    "    %run notebooks/setup_paths\n",
    "    \n",
    "\n",
    "logging.basicConfig(\n",
    "    level=logging.INFO,  # or DEBUG, WARNING, etc.\n",
    "    format='%(asctime)s - %(levelname)s - %(message)s',\n",
    "    stream=sys.stdout\n",
    ")\n",
    "\n",
    "logging.info(f\"current dir: {os.getcwd()}\")"
   ]
  },
  {
   "cell_type": "code",
   "execution_count": 2,
   "id": "565ff560-ee5c-4c5d-8c85-b886c82a3b19",
   "metadata": {},
   "outputs": [],
   "source": [
    "%run src/datasets\n",
    "\n",
    "\n"
   ]
  },
  {
   "cell_type": "code",
   "execution_count": 3,
   "id": "d02a43ae-c74d-4d67-9d47-42b4a3490a5e",
   "metadata": {},
   "outputs": [
    {
     "name": "stdout",
     "output_type": "stream",
     "text": [
      "2025-08-10 20:41:47,410 - INFO - loading ratings\n"
     ]
    }
   ],
   "source": [
    "#mlm = MovieLensData(MovieLens100KLoader('ml-100k'))\n",
    "mlm = MovieLensData(MovieLens1MLoader('ml-1m'))\n",
    "mlm.verify()"
   ]
  },
  {
   "cell_type": "code",
   "execution_count": 5,
   "id": "feaf8c0d-78f5-4c6f-912c-1046d29d3d63",
   "metadata": {},
   "outputs": [],
   "source": [
    "dataset = mlm.get_dataset()\n"
   ]
  },
  {
   "cell_type": "code",
   "execution_count": null,
   "id": "a970783e-f2c6-4122-94e8-09069a795846",
   "metadata": {},
   "outputs": [],
   "source": []
  },
  {
   "cell_type": "code",
   "execution_count": null,
   "id": "34fc358a-5b9b-46ec-b00a-c5e2e70ccfe7",
   "metadata": {},
   "outputs": [],
   "source": []
  },
  {
   "cell_type": "code",
   "execution_count": 6,
   "id": "cafe9ff7-3a7f-4a56-b0aa-ae9d108a21f7",
   "metadata": {},
   "outputs": [],
   "source": [
    "%run src/models\n",
    "\n",
    "model = MatrixFactorization(mlm.num_users, mlm.num_items, 50)\n",
    "device = torch.device(\"cuda\" if torch.cuda.is_available() else \"cpu\")"
   ]
  },
  {
   "cell_type": "code",
   "execution_count": 7,
   "id": "80ce15fe-fa8d-42d4-be71-65950a1e919b",
   "metadata": {},
   "outputs": [
    {
     "name": "stdout",
     "output_type": "stream",
     "text": [
      "Epoch [1/5] - Loss: 0.1221; Pos-Loss: 2.0402941703796387; Neg-Loss: 0.03820955380797386; Acc: 0.9622756242752075; Pos-Acc: 0.32466015219688416; Neg-Acc: 0.9901615381240845\n",
      "Epoch [2/5] - Loss: 0.1102; Pos-Loss: 1.8630818128585815; Neg-Loss: 0.03357677534222603; Acc: 0.9647864103317261; Pos-Acc: 0.4530932903289795; Neg-Acc: 0.987165093421936\n",
      "Epoch [3/5] - Loss: 0.1090; Pos-Loss: 1.817260980606079; Neg-Loss: 0.034279461950063705; Acc: 0.9654235243797302; Pos-Acc: 0.4826241433620453; Neg-Acc: 0.9865386486053467\n",
      "Epoch [4/5] - Loss: 0.1088; Pos-Loss: 1.7972794771194458; Neg-Loss: 0.034941550344228745; Acc: 0.9658109545707703; Pos-Acc: 0.499780535697937; Neg-Acc: 0.9861925840377808\n",
      "Epoch [5/5] - Loss: 0.1089; Pos-Loss: 1.7870649099349976; Neg-Loss: 0.03546231612563133; Acc: 0.9661457538604736; Pos-Acc: 0.511845052242279; Neg-Acc: 0.9860144257545471\n"
     ]
    }
   ],
   "source": [
    "loader = DataLoader(dataset, batch_size=128, shuffle=True)\n",
    "model = train_model(model, loader, epochs=5, lr=1e-3, device=device)"
   ]
  },
  {
   "cell_type": "code",
   "execution_count": 8,
   "id": "d39b7ea2-5184-4123-8639-339db3517ff2",
   "metadata": {},
   "outputs": [],
   "source": [
    "\n",
    "torch.save(model.to('cpu').state_dict(), \"models/MF20.1.weights\")"
   ]
  },
  {
   "cell_type": "code",
   "execution_count": 9,
   "id": "c37d3d3f-5edb-4fa6-9210-ee2935c68b39",
   "metadata": {},
   "outputs": [
    {
     "ename": "KeyboardInterrupt",
     "evalue": "",
     "output_type": "error",
     "traceback": [
      "\u001b[1;31m---------------------------------------------------------------------------\u001b[0m",
      "\u001b[1;31mKeyboardInterrupt\u001b[0m                         Traceback (most recent call last)",
      "Cell \u001b[1;32mIn[9], line 1\u001b[0m\n\u001b[1;32m----> 1\u001b[0m model \u001b[38;5;241m=\u001b[39m \u001b[43mtrain_model\u001b[49m\u001b[43m(\u001b[49m\u001b[43mmodel\u001b[49m\u001b[43m,\u001b[49m\u001b[43m \u001b[49m\u001b[43mloader\u001b[49m\u001b[43m,\u001b[49m\u001b[43m \u001b[49m\u001b[43mepochs\u001b[49m\u001b[38;5;241;43m=\u001b[39;49m\u001b[38;5;241;43m5\u001b[39;49m\u001b[43m,\u001b[49m\u001b[43m \u001b[49m\u001b[43mlr\u001b[49m\u001b[38;5;241;43m=\u001b[39;49m\u001b[38;5;241;43m0.85e-3\u001b[39;49m\u001b[43m,\u001b[49m\u001b[43m \u001b[49m\u001b[43mdevice\u001b[49m\u001b[38;5;241;43m=\u001b[39;49m\u001b[43mdevice\u001b[49m\u001b[43m)\u001b[49m\n",
      "File \u001b[1;32mC:\\Projects\\scmsim\\src\\models.py:70\u001b[0m, in \u001b[0;36mtrain_model\u001b[1;34m(model, loader, epochs, lr, device, gamma)\u001b[0m\n\u001b[0;32m     67\u001b[0m loss \u001b[38;5;241m=\u001b[39m criterion(logits\u001b[38;5;241m.\u001b[39msqueeze(), labels)\n\u001b[0;32m     69\u001b[0m \u001b[38;5;66;03m# Backprop\u001b[39;00m\n\u001b[1;32m---> 70\u001b[0m \u001b[43moptimizer\u001b[49m\u001b[38;5;241;43m.\u001b[39;49m\u001b[43mzero_grad\u001b[49m\u001b[43m(\u001b[49m\u001b[43m)\u001b[49m\n\u001b[0;32m     71\u001b[0m loss\u001b[38;5;241m.\u001b[39mbackward()\n\u001b[0;32m     72\u001b[0m optimizer\u001b[38;5;241m.\u001b[39mstep()\n",
      "File \u001b[1;32m~\\anaconda3\\envs\\salt\\lib\\site-packages\\torch\\_compile.py:31\u001b[0m, in \u001b[0;36m_disable_dynamo.<locals>.inner\u001b[1;34m(*args, **kwargs)\u001b[0m\n\u001b[0;32m     28\u001b[0m     disable_fn \u001b[38;5;241m=\u001b[39m torch\u001b[38;5;241m.\u001b[39m_dynamo\u001b[38;5;241m.\u001b[39mdisable(fn, recursive)\n\u001b[0;32m     29\u001b[0m     fn\u001b[38;5;241m.\u001b[39m__dynamo_disable \u001b[38;5;241m=\u001b[39m disable_fn\n\u001b[1;32m---> 31\u001b[0m \u001b[38;5;28;01mreturn\u001b[39;00m \u001b[43mdisable_fn\u001b[49m\u001b[43m(\u001b[49m\u001b[38;5;241;43m*\u001b[39;49m\u001b[43margs\u001b[49m\u001b[43m,\u001b[49m\u001b[43m \u001b[49m\u001b[38;5;241;43m*\u001b[39;49m\u001b[38;5;241;43m*\u001b[39;49m\u001b[43mkwargs\u001b[49m\u001b[43m)\u001b[49m\n",
      "File \u001b[1;32m~\\anaconda3\\envs\\salt\\lib\\site-packages\\torch\\_dynamo\\eval_frame.py:600\u001b[0m, in \u001b[0;36mDisableContext.__call__.<locals>._fn\u001b[1;34m(*args, **kwargs)\u001b[0m\n\u001b[0;32m    598\u001b[0m prior \u001b[38;5;241m=\u001b[39m set_eval_frame(callback)\n\u001b[0;32m    599\u001b[0m \u001b[38;5;28;01mtry\u001b[39;00m:\n\u001b[1;32m--> 600\u001b[0m     \u001b[38;5;28;01mreturn\u001b[39;00m \u001b[43mfn\u001b[49m\u001b[43m(\u001b[49m\u001b[38;5;241;43m*\u001b[39;49m\u001b[43margs\u001b[49m\u001b[43m,\u001b[49m\u001b[43m \u001b[49m\u001b[38;5;241;43m*\u001b[39;49m\u001b[38;5;241;43m*\u001b[39;49m\u001b[43mkwargs\u001b[49m\u001b[43m)\u001b[49m\n\u001b[0;32m    601\u001b[0m \u001b[38;5;28;01mfinally\u001b[39;00m:\n\u001b[0;32m    602\u001b[0m     set_eval_frame(prior)\n",
      "File \u001b[1;32m~\\anaconda3\\envs\\salt\\lib\\site-packages\\torch\\optim\\optimizer.py:942\u001b[0m, in \u001b[0;36mOptimizer.zero_grad\u001b[1;34m(self, set_to_none)\u001b[0m\n\u001b[0;32m    939\u001b[0m \u001b[38;5;28;01melse\u001b[39;00m:\n\u001b[0;32m    940\u001b[0m     per_device_and_dtype_grads \u001b[38;5;241m=\u001b[39m \u001b[38;5;28;01mNone\u001b[39;00m\n\u001b[1;32m--> 942\u001b[0m \u001b[38;5;28;01mwith\u001b[39;00m torch\u001b[38;5;241m.\u001b[39mautograd\u001b[38;5;241m.\u001b[39mprofiler\u001b[38;5;241m.\u001b[39mrecord_function(\u001b[38;5;28mself\u001b[39m\u001b[38;5;241m.\u001b[39m_zero_grad_profile_name):\n\u001b[0;32m    943\u001b[0m     \u001b[38;5;28;01mfor\u001b[39;00m group \u001b[38;5;129;01min\u001b[39;00m \u001b[38;5;28mself\u001b[39m\u001b[38;5;241m.\u001b[39mparam_groups:\n\u001b[0;32m    944\u001b[0m         \u001b[38;5;28;01mfor\u001b[39;00m p \u001b[38;5;129;01min\u001b[39;00m group[\u001b[38;5;124m\"\u001b[39m\u001b[38;5;124mparams\u001b[39m\u001b[38;5;124m\"\u001b[39m]:\n",
      "File \u001b[1;32m~\\anaconda3\\envs\\salt\\lib\\site-packages\\torch\\autograd\\profiler.py:688\u001b[0m, in \u001b[0;36mrecord_function.__enter__\u001b[1;34m(self)\u001b[0m\n\u001b[0;32m    687\u001b[0m \u001b[38;5;28;01mdef\u001b[39;00m \u001b[38;5;21m__enter__\u001b[39m(\u001b[38;5;28mself\u001b[39m):\n\u001b[1;32m--> 688\u001b[0m     \u001b[38;5;28mself\u001b[39m\u001b[38;5;241m.\u001b[39mrecord \u001b[38;5;241m=\u001b[39m \u001b[43mtorch\u001b[49m\u001b[38;5;241;43m.\u001b[39;49m\u001b[43mops\u001b[49m\u001b[38;5;241;43m.\u001b[39;49m\u001b[43mprofiler\u001b[49m\u001b[38;5;241;43m.\u001b[39;49m\u001b[43m_record_function_enter_new\u001b[49m\u001b[43m(\u001b[49m\n\u001b[0;32m    689\u001b[0m \u001b[43m        \u001b[49m\u001b[38;5;28;43mself\u001b[39;49m\u001b[38;5;241;43m.\u001b[39;49m\u001b[43mname\u001b[49m\u001b[43m,\u001b[49m\u001b[43m \u001b[49m\u001b[38;5;28;43mself\u001b[39;49m\u001b[38;5;241;43m.\u001b[39;49m\u001b[43margs\u001b[49m\n\u001b[0;32m    690\u001b[0m \u001b[43m    \u001b[49m\u001b[43m)\u001b[49m\n\u001b[0;32m    691\u001b[0m     \u001b[38;5;28;01mreturn\u001b[39;00m \u001b[38;5;28mself\u001b[39m\n",
      "File \u001b[1;32m~\\anaconda3\\envs\\salt\\lib\\site-packages\\torch\\_ops.py:1061\u001b[0m, in \u001b[0;36mOpOverloadPacket.__call__\u001b[1;34m(self_, *args, **kwargs)\u001b[0m\n\u001b[0;32m   1059\u001b[0m \u001b[38;5;28;01mif\u001b[39;00m self_\u001b[38;5;241m.\u001b[39m_has_torchbind_op_overload \u001b[38;5;129;01mand\u001b[39;00m _must_dispatch_in_python(args, kwargs):\n\u001b[0;32m   1060\u001b[0m     \u001b[38;5;28;01mreturn\u001b[39;00m _call_overload_packet_from_python(self_, args, kwargs)\n\u001b[1;32m-> 1061\u001b[0m \u001b[38;5;28;01mreturn\u001b[39;00m \u001b[43mself_\u001b[49m\u001b[38;5;241;43m.\u001b[39;49m\u001b[43m_op\u001b[49m\u001b[43m(\u001b[49m\u001b[38;5;241;43m*\u001b[39;49m\u001b[43margs\u001b[49m\u001b[43m,\u001b[49m\u001b[43m \u001b[49m\u001b[38;5;241;43m*\u001b[39;49m\u001b[38;5;241;43m*\u001b[39;49m\u001b[43m(\u001b[49m\u001b[43mkwargs\u001b[49m\u001b[43m \u001b[49m\u001b[38;5;129;43;01mor\u001b[39;49;00m\u001b[43m \u001b[49m\u001b[43m{\u001b[49m\u001b[43m}\u001b[49m\u001b[43m)\u001b[49m\u001b[43m)\u001b[49m\n",
      "\u001b[1;31mKeyboardInterrupt\u001b[0m: "
     ]
    }
   ],
   "source": [
    "model = train_model(model, loader, epochs=5, lr=0.85e-3, device=device)"
   ]
  },
  {
   "cell_type": "code",
   "execution_count": null,
   "id": "259a33cc-859f-43f1-9c2f-412ed8bc6017",
   "metadata": {},
   "outputs": [],
   "source": [
    "torch.save(model.to('cpu').state_dict(), \"models/MF20.2.weights\")"
   ]
  },
  {
   "cell_type": "code",
   "execution_count": null,
   "id": "e44eec00-027c-49f1-a460-5d76c174150d",
   "metadata": {},
   "outputs": [],
   "source": [
    "%run src/models\n",
    "model = train_model(model, loader, epochs=5, lr=1e-3, device=device)"
   ]
  },
  {
   "cell_type": "code",
   "execution_count": null,
   "id": "9a9b8a26-0739-4c79-907e-164d6fb5247d",
   "metadata": {},
   "outputs": [],
   "source": [
    "torch.save(model.to('cpu').state_dict(), \"models/MF20.3.weights\")"
   ]
  },
  {
   "cell_type": "code",
   "execution_count": null,
   "id": "100ca764-be54-4c61-83aa-f17f74ac74fa",
   "metadata": {},
   "outputs": [],
   "source": [
    "model = train_model(model, loader, epochs=5, lr=0.5e-3, device=device)"
   ]
  },
  {
   "cell_type": "code",
   "execution_count": null,
   "id": "7a970f13-d5a5-4bd0-b639-d0d58efa34ae",
   "metadata": {},
   "outputs": [],
   "source": [
    "torch.save(model.to('cpu').state_dict(), \"models/MF20.4.weights\")"
   ]
  },
  {
   "cell_type": "code",
   "execution_count": null,
   "id": "4bfc1381-b9b1-42f5-b1ab-13f4fa40993f",
   "metadata": {},
   "outputs": [],
   "source": []
  }
 ],
 "metadata": {
  "kernelspec": {
   "display_name": "Python 3 (ipykernel)",
   "language": "python",
   "name": "python3"
  },
  "language_info": {
   "codemirror_mode": {
    "name": "ipython",
    "version": 3
   },
   "file_extension": ".py",
   "mimetype": "text/x-python",
   "name": "python",
   "nbconvert_exporter": "python",
   "pygments_lexer": "ipython3",
   "version": "3.8.19"
  }
 },
 "nbformat": 4,
 "nbformat_minor": 5
}
