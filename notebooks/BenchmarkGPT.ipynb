{
 "cells": [
  {
   "cell_type": "code",
   "execution_count": 1,
   "id": "d460afae-bd0b-4c9e-87de-ac49bd257e07",
   "metadata": {},
   "outputs": [
    {
     "name": "stdout",
     "output_type": "stream",
     "text": [
      "2025-08-18 02:44:04,141 - INFO - current dir: c:\\Projects\\scmsim\n"
     ]
    }
   ],
   "source": [
    "import os\n",
    "import torch\n",
    "import gc\n",
    "import logging\n",
    "\n",
    "gc.collect()\n",
    "if torch.cuda.is_available():\n",
    "    torch.cuda.empty_cache()        \n",
    "    torch.cuda.ipc_collect()\n",
    "\n",
    "\n",
    "try:\n",
    "    %run setup_paths\n",
    "except:\n",
    "    %run notebooks/setup_paths\n",
    "    \n",
    "\n",
    "logging.basicConfig(\n",
    "    level=logging.INFO,  # or DEBUG, WARNING, etc.\n",
    "    format='%(asctime)s - %(levelname)s - %(message)s',\n",
    "    stream=sys.stdout\n",
    ")\n",
    "\n",
    "logging.info(f\"current dir: {os.getcwd()}\")"
   ]
  },
  {
   "cell_type": "markdown",
   "id": "f99b1374-da2b-4c64-bf01-4b2f1792385e",
   "metadata": {},
   "source": [
    "# General\n",
    "\n",
    "uidata -> user-item-data\n",
    "\n",
    "Data, Models, etc... are accessed by name. Models per data-name\n"
   ]
  },
  {
   "cell_type": "code",
   "execution_count": null,
   "id": "863efee8-2c63-4552-bab3-cf595411e8b3",
   "metadata": {},
   "outputs": [],
   "source": []
  },
  {
   "cell_type": "markdown",
   "id": "3bd202a1-2e1c-4bfb-aae6-a4cb98f68714",
   "metadata": {},
   "source": [
    "# First Train Model"
   ]
  },
  {
   "cell_type": "code",
   "execution_count": 3,
   "id": "d0bd4514-f88b-4586-a7c8-2a176dd5b1fe",
   "metadata": {},
   "outputs": [],
   "source": [
    "%run src/datasets\n",
    "%run src/models\n",
    "%run src/estimators\n",
    "%run src/loaders\n"
   ]
  },
  {
   "cell_type": "code",
   "execution_count": 4,
   "id": "10626941-92a6-4e7b-81e1-78adad068dd7",
   "metadata": {},
   "outputs": [
    {
     "name": "stdout",
     "output_type": "stream",
     "text": [
      "2025-08-18 02:44:27,341 - INFO - loading ratings\n",
      "2025-08-18 02:44:27,525 - INFO - fitting model MF40; num_items=1682; num_users=943; params=MFTrainParams(lr=0.01, gamma=0.95, batch_size=4096, n_epochs=0, shuffle=True); device=cuda\n",
      "2025-08-18 02:44:29,448 - INFO - saving model at: results\\MovieLens100K\\models\\MF40.0\n"
     ]
    }
   ],
   "source": [
    "\n",
    "paths = PathProvider('results','products')\n",
    "uidata = MovieLensData(MovieLens100KLoader('ml-100k'))\n",
    "\n",
    "REFIT = True\n",
    "model_name = 'MF40'\n",
    "\n",
    "if REFIT or not model_exists(paths, uidata.name(), model_name):\n",
    "    train_params = MFTrainParams(\n",
    "        lr = 1e-2,\n",
    "        gamma = 0.95,\n",
    "        batch_size = 2**12,\n",
    "        n_epochs  = 0, #5,\n",
    "        shuffle = True)\n",
    "        \n",
    "    mft = MatrixFactorizationTrain(paths, 'MF40', n_factors=40, train_params=train_params)\n",
    "    mft.fit(uidata)\n",
    "                         "
   ]
  },
  {
   "cell_type": "code",
   "execution_count": 5,
   "id": "40b75e6e-1cd5-4558-8b29-fdc42a4724ba",
   "metadata": {},
   "outputs": [],
   "source": [
    "%run src/pipeline\n",
    "%run src/models\n",
    "%run src/utils\n"
   ]
  },
  {
   "cell_type": "markdown",
   "id": "0b805958-1663-4baa-b2db-fe8c20571129",
   "metadata": {},
   "source": [
    "## Create Estimations\n",
    "\n",
    "Estimations are created for a list (DataFrame) of item pairs treatment->response\n",
    "\n",
    "Then they are saved under method-name"
   ]
  },
  {
   "cell_type": "code",
   "execution_count": 8,
   "id": "bc8011f9-c0d7-4845-b6ee-4b5cb5259caa",
   "metadata": {},
   "outputs": [
    {
     "name": "stdout",
     "output_type": "stream",
     "text": [
      "2025-08-18 02:44:44,022 - INFO - loading info\n",
      "2025-08-18 02:44:44,080 - INFO - processing: 0:4096 / 9442\n",
      "2025-08-18 02:44:44,115 - INFO - loading ratings\n"
     ]
    },
    {
     "name": "stderr",
     "output_type": "stream",
     "text": [
      "C:\\Projects\\scmsim\\src\\loaders.py:53: FutureWarning: You are using `torch.load` with `weights_only=False` (the current default value), which uses the default pickle module implicitly. It is possible to construct malicious pickle data which will execute arbitrary code during unpickling (See https://github.com/pytorch/pytorch/blob/main/SECURITY.md#untrusted-models for more details). In a future release, the default value for `weights_only` will be flipped to `True`. This limits the functions that could be executed during unpickling. Arbitrary objects will no longer be allowed to be loaded via this mode unless they are explicitly allowlisted by the user via `torch.serialization.add_safe_globals`. We recommend you start setting `weights_only=True` for any use case where you don't have full control of the loaded file. Please open an issue on GitHub for any issues related to this experimental feature.\n",
      "  return torch.load(dir_path / paths.model_filename())\n"
     ]
    },
    {
     "name": "stdout",
     "output_type": "stream",
     "text": [
      "2025-08-18 02:44:44,361 - INFO - processing: 4096:8192 / 9442\n",
      "2025-08-18 02:44:44,582 - INFO - processing: 8192:9442 / 9442\n"
     ]
    },
    {
     "data": {
      "text/html": [
       "<div>\n",
       "<style scoped>\n",
       "    .dataframe tbody tr th:only-of-type {\n",
       "        vertical-align: middle;\n",
       "    }\n",
       "\n",
       "    .dataframe tbody tr th {\n",
       "        vertical-align: top;\n",
       "    }\n",
       "\n",
       "    .dataframe thead th {\n",
       "        text-align: right;\n",
       "    }\n",
       "</style>\n",
       "<table border=\"1\" class=\"dataframe\">\n",
       "  <thead>\n",
       "    <tr style=\"text-align: right;\">\n",
       "      <th></th>\n",
       "      <th>MF40.IPW</th>\n",
       "      <th>MF40.IPW.s</th>\n",
       "      <th>MF40.IPW.clp0.2.s</th>\n",
       "      <th>treatment_idx</th>\n",
       "      <th>resp_idx</th>\n",
       "    </tr>\n",
       "  </thead>\n",
       "  <tbody>\n",
       "    <tr>\n",
       "      <th>0</th>\n",
       "      <td>-0.227996</td>\n",
       "      <td>-0.113840</td>\n",
       "      <td>-0.113840</td>\n",
       "      <td>519</td>\n",
       "      <td>678</td>\n",
       "    </tr>\n",
       "    <tr>\n",
       "      <th>1</th>\n",
       "      <td>-0.232238</td>\n",
       "      <td>-0.115922</td>\n",
       "      <td>-0.115922</td>\n",
       "      <td>34</td>\n",
       "      <td>678</td>\n",
       "    </tr>\n",
       "    <tr>\n",
       "      <th>2</th>\n",
       "      <td>-0.332980</td>\n",
       "      <td>-0.166259</td>\n",
       "      <td>-0.166259</td>\n",
       "      <td>519</td>\n",
       "      <td>405</td>\n",
       "    </tr>\n",
       "    <tr>\n",
       "      <th>3</th>\n",
       "      <td>0.110286</td>\n",
       "      <td>0.055004</td>\n",
       "      <td>0.055004</td>\n",
       "      <td>181</td>\n",
       "      <td>405</td>\n",
       "    </tr>\n",
       "    <tr>\n",
       "      <th>4</th>\n",
       "      <td>-0.224814</td>\n",
       "      <td>-0.112417</td>\n",
       "      <td>-0.112417</td>\n",
       "      <td>173</td>\n",
       "      <td>405</td>\n",
       "    </tr>\n",
       "    <tr>\n",
       "      <th>...</th>\n",
       "      <td>...</td>\n",
       "      <td>...</td>\n",
       "      <td>...</td>\n",
       "      <td>...</td>\n",
       "      <td>...</td>\n",
       "    </tr>\n",
       "    <tr>\n",
       "      <th>9437</th>\n",
       "      <td>-0.119830</td>\n",
       "      <td>-0.059934</td>\n",
       "      <td>-0.059934</td>\n",
       "      <td>756</td>\n",
       "      <td>242</td>\n",
       "    </tr>\n",
       "    <tr>\n",
       "      <th>9438</th>\n",
       "      <td>-0.040297</td>\n",
       "      <td>-0.020139</td>\n",
       "      <td>-0.020139</td>\n",
       "      <td>21</td>\n",
       "      <td>844</td>\n",
       "    </tr>\n",
       "    <tr>\n",
       "      <th>9439</th>\n",
       "      <td>-0.029692</td>\n",
       "      <td>-0.014844</td>\n",
       "      <td>-0.014844</td>\n",
       "      <td>118</td>\n",
       "      <td>163</td>\n",
       "    </tr>\n",
       "    <tr>\n",
       "      <th>9440</th>\n",
       "      <td>-0.296925</td>\n",
       "      <td>-0.148305</td>\n",
       "      <td>-0.148305</td>\n",
       "      <td>244</td>\n",
       "      <td>318</td>\n",
       "    </tr>\n",
       "    <tr>\n",
       "      <th>9441</th>\n",
       "      <td>-0.020148</td>\n",
       "      <td>-0.010070</td>\n",
       "      <td>-0.010070</td>\n",
       "      <td>433</td>\n",
       "      <td>49</td>\n",
       "    </tr>\n",
       "  </tbody>\n",
       "</table>\n",
       "<p>9442 rows × 5 columns</p>\n",
       "</div>"
      ],
      "text/plain": [
       "      MF40.IPW  MF40.IPW.s  MF40.IPW.clp0.2.s  treatment_idx  resp_idx\n",
       "0    -0.227996   -0.113840          -0.113840            519       678\n",
       "1    -0.232238   -0.115922          -0.115922             34       678\n",
       "2    -0.332980   -0.166259          -0.166259            519       405\n",
       "3     0.110286    0.055004           0.055004            181       405\n",
       "4    -0.224814   -0.112417          -0.112417            173       405\n",
       "...        ...         ...                ...            ...       ...\n",
       "9437 -0.119830   -0.059934          -0.059934            756       242\n",
       "9438 -0.040297   -0.020139          -0.020139             21       844\n",
       "9439 -0.029692   -0.014844          -0.014844            118       163\n",
       "9440 -0.296925   -0.148305          -0.148305            244       318\n",
       "9441 -0.020148   -0.010070          -0.010070            433        49\n",
       "\n",
       "[9442 rows x 5 columns]"
      ]
     },
     "execution_count": 8,
     "metadata": {},
     "output_type": "execute_result"
    }
   ],
   "source": [
    "\n",
    "uidata = MovieLensData(MovieLens100KLoader('ml-100k'))\n",
    "model_name = 'MF40'\n",
    "group_name = 'MoviesCausalGPT'\n",
    "method_name = f'{model_name}.IPW'\n",
    "\n",
    "model = load_model(paths, uidata.name(), model_name)\n",
    "\n",
    "ipw_params = [IPWParams(), IPWParams(0, True), IPWParams(0.2, True)]\n",
    "ipwe = MFIPWEstimator(model_name, model, ipw_params)\n",
    "\n",
    "create_estimations(paths, uidata, method_name, group_name, ipwe, reset_ids=True)\n"
   ]
  },
  {
   "cell_type": "markdown",
   "id": "d2a19d9b-bbb6-4e49-a0d7-42236773da39",
   "metadata": {},
   "source": [
    "## Basic Estimations"
   ]
  },
  {
   "cell_type": "code",
   "execution_count": 9,
   "id": "560b0492-3b85-4436-afd3-4b1e3a60a964",
   "metadata": {},
   "outputs": [
    {
     "name": "stdout",
     "output_type": "stream",
     "text": [
      "2025-08-18 02:44:46,296 - INFO - processing: 0:4096 / 9442\n",
      "2025-08-18 02:44:46,475 - INFO - processing: 4096:8192 / 9442\n",
      "2025-08-18 02:44:46,587 - INFO - processing: 8192:9442 / 9442\n"
     ]
    },
    {
     "data": {
      "text/html": [
       "<div>\n",
       "<style scoped>\n",
       "    .dataframe tbody tr th:only-of-type {\n",
       "        vertical-align: middle;\n",
       "    }\n",
       "\n",
       "    .dataframe tbody tr th {\n",
       "        vertical-align: top;\n",
       "    }\n",
       "\n",
       "    .dataframe thead th {\n",
       "        text-align: right;\n",
       "    }\n",
       "</style>\n",
       "<table border=\"1\" class=\"dataframe\">\n",
       "  <thead>\n",
       "    <tr style=\"text-align: right;\">\n",
       "      <th></th>\n",
       "      <th>CORR</th>\n",
       "      <th>LIFT</th>\n",
       "      <th>SATE</th>\n",
       "      <th>treatment_idx</th>\n",
       "      <th>resp_idx</th>\n",
       "    </tr>\n",
       "  </thead>\n",
       "  <tbody>\n",
       "    <tr>\n",
       "      <th>0</th>\n",
       "      <td>-0.066988</td>\n",
       "      <td>0.915011</td>\n",
       "      <td>-0.021567</td>\n",
       "      <td>519</td>\n",
       "      <td>678</td>\n",
       "    </tr>\n",
       "    <tr>\n",
       "      <th>1</th>\n",
       "      <td>-0.105345</td>\n",
       "      <td>1.230268</td>\n",
       "      <td>0.053877</td>\n",
       "      <td>34</td>\n",
       "      <td>678</td>\n",
       "    </tr>\n",
       "    <tr>\n",
       "      <th>2</th>\n",
       "      <td>-0.135126</td>\n",
       "      <td>1.233576</td>\n",
       "      <td>0.093105</td>\n",
       "      <td>519</td>\n",
       "      <td>405</td>\n",
       "    </tr>\n",
       "    <tr>\n",
       "      <th>3</th>\n",
       "      <td>0.502863</td>\n",
       "      <td>1.481480</td>\n",
       "      <td>0.379883</td>\n",
       "      <td>181</td>\n",
       "      <td>405</td>\n",
       "    </tr>\n",
       "    <tr>\n",
       "      <th>4</th>\n",
       "      <td>0.348364</td>\n",
       "      <td>1.489090</td>\n",
       "      <td>0.271804</td>\n",
       "      <td>173</td>\n",
       "      <td>405</td>\n",
       "    </tr>\n",
       "    <tr>\n",
       "      <th>...</th>\n",
       "      <td>...</td>\n",
       "      <td>...</td>\n",
       "      <td>...</td>\n",
       "      <td>...</td>\n",
       "      <td>...</td>\n",
       "    </tr>\n",
       "    <tr>\n",
       "      <th>9437</th>\n",
       "      <td>-0.077004</td>\n",
       "      <td>0.566707</td>\n",
       "      <td>-0.062203</td>\n",
       "      <td>756</td>\n",
       "      <td>242</td>\n",
       "    </tr>\n",
       "    <tr>\n",
       "      <th>9438</th>\n",
       "      <td>0.075903</td>\n",
       "      <td>2.940193</td>\n",
       "      <td>0.094864</td>\n",
       "      <td>21</td>\n",
       "      <td>844</td>\n",
       "    </tr>\n",
       "    <tr>\n",
       "      <th>9439</th>\n",
       "      <td>-0.036143</td>\n",
       "      <td>1.574232</td>\n",
       "      <td>0.081276</td>\n",
       "      <td>118</td>\n",
       "      <td>163</td>\n",
       "    </tr>\n",
       "    <tr>\n",
       "      <th>9440</th>\n",
       "      <td>-0.224930</td>\n",
       "      <td>1.120735</td>\n",
       "      <td>0.040200</td>\n",
       "      <td>244</td>\n",
       "      <td>318</td>\n",
       "    </tr>\n",
       "    <tr>\n",
       "      <th>9441</th>\n",
       "      <td>-0.015165</td>\n",
       "      <td>2.723269</td>\n",
       "      <td>0.180809</td>\n",
       "      <td>433</td>\n",
       "      <td>49</td>\n",
       "    </tr>\n",
       "  </tbody>\n",
       "</table>\n",
       "<p>9442 rows × 5 columns</p>\n",
       "</div>"
      ],
      "text/plain": [
       "          CORR      LIFT      SATE  treatment_idx  resp_idx\n",
       "0    -0.066988  0.915011 -0.021567            519       678\n",
       "1    -0.105345  1.230268  0.053877             34       678\n",
       "2    -0.135126  1.233576  0.093105            519       405\n",
       "3     0.502863  1.481480  0.379883            181       405\n",
       "4     0.348364  1.489090  0.271804            173       405\n",
       "...        ...       ...       ...            ...       ...\n",
       "9437 -0.077004  0.566707 -0.062203            756       242\n",
       "9438  0.075903  2.940193  0.094864             21       844\n",
       "9439 -0.036143  1.574232  0.081276            118       163\n",
       "9440 -0.224930  1.120735  0.040200            244       318\n",
       "9441 -0.015165  2.723269  0.180809            433        49\n",
       "\n",
       "[9442 rows x 5 columns]"
      ]
     },
     "execution_count": 9,
     "metadata": {},
     "output_type": "execute_result"
    }
   ],
   "source": [
    "%run src/pipeline\n",
    "%run src/models\n",
    "%run src/utils\n",
    "\n",
    "\n",
    "basee = BasicEstimator()\n",
    "create_estimations(paths, uidata, 'Basic' , group_name, basee, reset_ids=True)\n"
   ]
  },
  {
   "cell_type": "markdown",
   "id": "9e0a0504-b995-453d-afe7-f8288825d797",
   "metadata": {},
   "source": [
    "# Show all estimations"
   ]
  },
  {
   "cell_type": "code",
   "execution_count": 10,
   "id": "3a061aba-fa1c-4d98-9357-5cda15a5bb26",
   "metadata": {},
   "outputs": [
    {
     "data": {
      "text/html": [
       "<div>\n",
       "<style scoped>\n",
       "    .dataframe tbody tr th:only-of-type {\n",
       "        vertical-align: middle;\n",
       "    }\n",
       "\n",
       "    .dataframe tbody tr th {\n",
       "        vertical-align: top;\n",
       "    }\n",
       "\n",
       "    .dataframe thead th {\n",
       "        text-align: right;\n",
       "    }\n",
       "</style>\n",
       "<table border=\"1\" class=\"dataframe\">\n",
       "  <thead>\n",
       "    <tr style=\"text-align: right;\">\n",
       "      <th></th>\n",
       "      <th>CORR</th>\n",
       "      <th>LIFT</th>\n",
       "      <th>SATE</th>\n",
       "      <th>treatment_idx</th>\n",
       "      <th>resp_idx</th>\n",
       "      <th>MF40.IPW</th>\n",
       "      <th>MF40.IPW.s</th>\n",
       "      <th>MF40.IPW.clp0.2.s</th>\n",
       "    </tr>\n",
       "  </thead>\n",
       "  <tbody>\n",
       "    <tr>\n",
       "      <th>0</th>\n",
       "      <td>-0.066988</td>\n",
       "      <td>0.915011</td>\n",
       "      <td>-0.021567</td>\n",
       "      <td>519</td>\n",
       "      <td>678</td>\n",
       "      <td>-0.227996</td>\n",
       "      <td>-0.113840</td>\n",
       "      <td>-0.113840</td>\n",
       "    </tr>\n",
       "    <tr>\n",
       "      <th>1</th>\n",
       "      <td>-0.105345</td>\n",
       "      <td>1.230268</td>\n",
       "      <td>0.053877</td>\n",
       "      <td>34</td>\n",
       "      <td>678</td>\n",
       "      <td>-0.232238</td>\n",
       "      <td>-0.115922</td>\n",
       "      <td>-0.115922</td>\n",
       "    </tr>\n",
       "    <tr>\n",
       "      <th>2</th>\n",
       "      <td>-0.135126</td>\n",
       "      <td>1.233576</td>\n",
       "      <td>0.093105</td>\n",
       "      <td>519</td>\n",
       "      <td>405</td>\n",
       "      <td>-0.332980</td>\n",
       "      <td>-0.166259</td>\n",
       "      <td>-0.166259</td>\n",
       "    </tr>\n",
       "    <tr>\n",
       "      <th>3</th>\n",
       "      <td>0.502863</td>\n",
       "      <td>1.481480</td>\n",
       "      <td>0.379883</td>\n",
       "      <td>181</td>\n",
       "      <td>405</td>\n",
       "      <td>0.110286</td>\n",
       "      <td>0.055004</td>\n",
       "      <td>0.055004</td>\n",
       "    </tr>\n",
       "    <tr>\n",
       "      <th>4</th>\n",
       "      <td>0.348364</td>\n",
       "      <td>1.489090</td>\n",
       "      <td>0.271804</td>\n",
       "      <td>173</td>\n",
       "      <td>405</td>\n",
       "      <td>-0.224814</td>\n",
       "      <td>-0.112417</td>\n",
       "      <td>-0.112417</td>\n",
       "    </tr>\n",
       "    <tr>\n",
       "      <th>...</th>\n",
       "      <td>...</td>\n",
       "      <td>...</td>\n",
       "      <td>...</td>\n",
       "      <td>...</td>\n",
       "      <td>...</td>\n",
       "      <td>...</td>\n",
       "      <td>...</td>\n",
       "      <td>...</td>\n",
       "    </tr>\n",
       "    <tr>\n",
       "      <th>9449</th>\n",
       "      <td>-0.077004</td>\n",
       "      <td>0.566707</td>\n",
       "      <td>-0.062203</td>\n",
       "      <td>756</td>\n",
       "      <td>242</td>\n",
       "      <td>-0.119830</td>\n",
       "      <td>-0.059934</td>\n",
       "      <td>-0.059934</td>\n",
       "    </tr>\n",
       "    <tr>\n",
       "      <th>9450</th>\n",
       "      <td>0.075903</td>\n",
       "      <td>2.940193</td>\n",
       "      <td>0.094864</td>\n",
       "      <td>21</td>\n",
       "      <td>844</td>\n",
       "      <td>-0.040297</td>\n",
       "      <td>-0.020139</td>\n",
       "      <td>-0.020139</td>\n",
       "    </tr>\n",
       "    <tr>\n",
       "      <th>9451</th>\n",
       "      <td>-0.036143</td>\n",
       "      <td>1.574232</td>\n",
       "      <td>0.081276</td>\n",
       "      <td>118</td>\n",
       "      <td>163</td>\n",
       "      <td>-0.029692</td>\n",
       "      <td>-0.014844</td>\n",
       "      <td>-0.014844</td>\n",
       "    </tr>\n",
       "    <tr>\n",
       "      <th>9452</th>\n",
       "      <td>-0.224930</td>\n",
       "      <td>1.120735</td>\n",
       "      <td>0.040200</td>\n",
       "      <td>244</td>\n",
       "      <td>318</td>\n",
       "      <td>-0.296925</td>\n",
       "      <td>-0.148305</td>\n",
       "      <td>-0.148305</td>\n",
       "    </tr>\n",
       "    <tr>\n",
       "      <th>9453</th>\n",
       "      <td>-0.015165</td>\n",
       "      <td>2.723269</td>\n",
       "      <td>0.180809</td>\n",
       "      <td>433</td>\n",
       "      <td>49</td>\n",
       "      <td>-0.020148</td>\n",
       "      <td>-0.010070</td>\n",
       "      <td>-0.010070</td>\n",
       "    </tr>\n",
       "  </tbody>\n",
       "</table>\n",
       "<p>9454 rows × 8 columns</p>\n",
       "</div>"
      ],
      "text/plain": [
       "          CORR      LIFT      SATE  treatment_idx  resp_idx  MF40.IPW  \\\n",
       "0    -0.066988  0.915011 -0.021567            519       678 -0.227996   \n",
       "1    -0.105345  1.230268  0.053877             34       678 -0.232238   \n",
       "2    -0.135126  1.233576  0.093105            519       405 -0.332980   \n",
       "3     0.502863  1.481480  0.379883            181       405  0.110286   \n",
       "4     0.348364  1.489090  0.271804            173       405 -0.224814   \n",
       "...        ...       ...       ...            ...       ...       ...   \n",
       "9449 -0.077004  0.566707 -0.062203            756       242 -0.119830   \n",
       "9450  0.075903  2.940193  0.094864             21       844 -0.040297   \n",
       "9451 -0.036143  1.574232  0.081276            118       163 -0.029692   \n",
       "9452 -0.224930  1.120735  0.040200            244       318 -0.296925   \n",
       "9453 -0.015165  2.723269  0.180809            433        49 -0.020148   \n",
       "\n",
       "      MF40.IPW.s  MF40.IPW.clp0.2.s  \n",
       "0      -0.113840          -0.113840  \n",
       "1      -0.115922          -0.115922  \n",
       "2      -0.166259          -0.166259  \n",
       "3       0.055004           0.055004  \n",
       "4      -0.112417          -0.112417  \n",
       "...          ...                ...  \n",
       "9449   -0.059934          -0.059934  \n",
       "9450   -0.020139          -0.020139  \n",
       "9451   -0.014844          -0.014844  \n",
       "9452   -0.148305          -0.148305  \n",
       "9453   -0.010070          -0.010070  \n",
       "\n",
       "[9454 rows x 8 columns]"
      ]
     },
     "execution_count": 10,
     "metadata": {},
     "output_type": "execute_result"
    }
   ],
   "source": [
    "%run src/utils\n",
    "#dir(cfg)\n",
    "load_all_estimations(paths, 'MovieLens100K', 'MoviesCausalGPT')"
   ]
  },
  {
   "cell_type": "markdown",
   "id": "ded80155-314b-4696-85d0-6dca28c70da5",
   "metadata": {},
   "source": [
    "## Comparison (metrics) with MoviesCausalGPT"
   ]
  },
  {
   "cell_type": "code",
   "execution_count": 11,
   "id": "eeec6ac9-90ef-4cf8-869d-5ee88952f0fb",
   "metadata": {},
   "outputs": [],
   "source": [
    "%run src/pipeline\n",
    "%run src/models\n",
    "%run src/utils\n"
   ]
  },
  {
   "cell_type": "code",
   "execution_count": 12,
   "id": "6e20fff9-3b89-49e2-b64f-530a3d4db7d2",
   "metadata": {},
   "outputs": [
    {
     "data": {
      "text/html": [
       "<div>\n",
       "<style scoped>\n",
       "    .dataframe tbody tr th:only-of-type {\n",
       "        vertical-align: middle;\n",
       "    }\n",
       "\n",
       "    .dataframe tbody tr th {\n",
       "        vertical-align: top;\n",
       "    }\n",
       "\n",
       "    .dataframe thead th {\n",
       "        text-align: right;\n",
       "    }\n",
       "</style>\n",
       "<table border=\"1\" class=\"dataframe\">\n",
       "  <thead>\n",
       "    <tr style=\"text-align: right;\">\n",
       "      <th></th>\n",
       "      <th>name</th>\n",
       "      <th>corr</th>\n",
       "      <th>corr_pos</th>\n",
       "      <th>zero_mse</th>\n",
       "    </tr>\n",
       "  </thead>\n",
       "  <tbody>\n",
       "    <tr>\n",
       "      <th>0</th>\n",
       "      <td>CORR</td>\n",
       "      <td>0.076206</td>\n",
       "      <td>0.176908</td>\n",
       "      <td>0.047855</td>\n",
       "    </tr>\n",
       "    <tr>\n",
       "      <th>1</th>\n",
       "      <td>LIFT</td>\n",
       "      <td>0.037209</td>\n",
       "      <td>0.070610</td>\n",
       "      <td>27.693341</td>\n",
       "    </tr>\n",
       "    <tr>\n",
       "      <th>2</th>\n",
       "      <td>SATE</td>\n",
       "      <td>0.095675</td>\n",
       "      <td>0.141985</td>\n",
       "      <td>0.032063</td>\n",
       "    </tr>\n",
       "    <tr>\n",
       "      <th>3</th>\n",
       "      <td>MF40.IPW</td>\n",
       "      <td>-0.019210</td>\n",
       "      <td>0.032400</td>\n",
       "      <td>0.023926</td>\n",
       "    </tr>\n",
       "    <tr>\n",
       "      <th>4</th>\n",
       "      <td>MF40.IPW.s</td>\n",
       "      <td>-0.019204</td>\n",
       "      <td>0.032402</td>\n",
       "      <td>0.005969</td>\n",
       "    </tr>\n",
       "    <tr>\n",
       "      <th>5</th>\n",
       "      <td>MF40.IPW.clp0.2.s</td>\n",
       "      <td>-0.019204</td>\n",
       "      <td>0.032402</td>\n",
       "      <td>0.005969</td>\n",
       "    </tr>\n",
       "  </tbody>\n",
       "</table>\n",
       "</div>"
      ],
      "text/plain": [
       "                name      corr  corr_pos   zero_mse\n",
       "0               CORR  0.076206  0.176908   0.047855\n",
       "1               LIFT  0.037209  0.070610  27.693341\n",
       "2               SATE  0.095675  0.141985   0.032063\n",
       "3           MF40.IPW -0.019210  0.032400   0.023926\n",
       "4         MF40.IPW.s -0.019204  0.032402   0.005969\n",
       "5  MF40.IPW.clp0.2.s -0.019204  0.032402   0.005969"
      ]
     },
     "execution_count": 12,
     "metadata": {},
     "output_type": "execute_result"
    }
   ],
   "source": [
    "%run src/pipeline\n",
    "get_causal_gpt_scores(paths, uidata)"
   ]
  },
  {
   "cell_type": "code",
   "execution_count": null,
   "id": "22234239-a864-4477-9452-3a670e3778eb",
   "metadata": {},
   "outputs": [],
   "source": []
  },
  {
   "cell_type": "code",
   "execution_count": null,
   "id": "f7d9cd83-adfe-471b-85e3-55455a497785",
   "metadata": {},
   "outputs": [],
   "source": []
  },
  {
   "cell_type": "code",
   "execution_count": null,
   "id": "d0ab8eba-527a-4453-9dab-a0c1cd56588c",
   "metadata": {},
   "outputs": [],
   "source": []
  },
  {
   "cell_type": "code",
   "execution_count": null,
   "id": "2a67c8f1-61cc-4c29-814f-3c8c48a9c9db",
   "metadata": {},
   "outputs": [],
   "source": []
  },
  {
   "cell_type": "code",
   "execution_count": null,
   "id": "68439a8a-7d40-45da-a61a-02f8fedc85c9",
   "metadata": {},
   "outputs": [],
   "source": []
  },
  {
   "cell_type": "code",
   "execution_count": null,
   "id": "860d3e4c-f89c-47d9-a340-04e4aba3c84e",
   "metadata": {},
   "outputs": [],
   "source": []
  },
  {
   "cell_type": "code",
   "execution_count": null,
   "id": "afd7e1c1-6965-4bc1-a9d2-a649b8be0ad7",
   "metadata": {},
   "outputs": [],
   "source": []
  },
  {
   "cell_type": "code",
   "execution_count": null,
   "id": "0938ec4b-e099-4659-b38b-b3edc076a6ce",
   "metadata": {},
   "outputs": [],
   "source": []
  },
  {
   "cell_type": "code",
   "execution_count": null,
   "id": "2b27664f-314b-4f4c-a0ee-61ffccbc9605",
   "metadata": {},
   "outputs": [],
   "source": []
  },
  {
   "cell_type": "code",
   "execution_count": null,
   "id": "89cc6824-4a12-419b-8e01-c14bf243cd46",
   "metadata": {},
   "outputs": [],
   "source": []
  },
  {
   "cell_type": "code",
   "execution_count": null,
   "id": "66b84a33-3d21-465b-b3fa-5b5bf8389606",
   "metadata": {},
   "outputs": [],
   "source": []
  },
  {
   "cell_type": "code",
   "execution_count": null,
   "id": "77e624da-4e46-4b7c-9bd5-596da07622fb",
   "metadata": {},
   "outputs": [],
   "source": []
  },
  {
   "cell_type": "code",
   "execution_count": null,
   "id": "07e2f4a5-f141-4f2d-a8c2-732b4c408b53",
   "metadata": {},
   "outputs": [],
   "source": []
  },
  {
   "cell_type": "code",
   "execution_count": null,
   "id": "2c2a26c5-5b20-428b-9f48-3163149ead23",
   "metadata": {},
   "outputs": [],
   "source": []
  },
  {
   "cell_type": "markdown",
   "id": "5c319a19-b144-4207-a6d5-5e53f1dbf77c",
   "metadata": {},
   "source": [
    "# Leftovers"
   ]
  },
  {
   "cell_type": "code",
   "execution_count": 95,
   "id": "f18b0124-b153-4471-98cd-0b6198483555",
   "metadata": {},
   "outputs": [
    {
     "name": "stdout",
     "output_type": "stream",
     "text": [
      "torch.Size([1682, 40])\n"
     ]
    },
    {
     "data": {
      "text/plain": [
       "tensor([ 0.0091, -0.1013, -0.1563,  0.0016,  0.2534, -0.2155, -0.0383,  0.0072,\n",
       "        -0.1072, -0.3055], grad_fn=<DivBackward0>)"
      ]
     },
     "execution_count": 95,
     "metadata": {},
     "output_type": "execute_result"
    }
   ],
   "source": [
    "print(model.Q.shape)\n",
    "aaa = torch.rand(2,4) * 10\n",
    "aaa.norm(dim=1, keepdim=True)\n",
    "tidx = torch.arange(10)\n",
    "ridx = torch.arange(10) + 20\n",
    "\n",
    "Qt = model.Q[tidx] \n",
    "\n",
    "Qr = model.Q[ridx] \n",
    "\n",
    "cosim = (Qt * Qr).sum(dim=1) / (Qt.norm(dim=1) * Qr.norm(dim=1))\n",
    "#dp = (Qt / Qt.norm(dim=1, keepdim=True)) * (Qr / Qr.norm(dim=1, keepdim=True))\n",
    "#dp.sum(dim=1)"
   ]
  },
  {
   "cell_type": "code",
   "execution_count": 91,
   "id": "74a83be2-57bd-4e68-b62a-d5b77e8d37a2",
   "metadata": {},
   "outputs": [],
   "source": [
    "watch = uidata.get_watch_matrix()\n",
    "timestamp = uidata.get_watch_matrix(timestamps=True)\n"
   ]
  },
  {
   "cell_type": "code",
   "execution_count": 115,
   "id": "7e5940d5-9d2f-4fbd-82b4-3966b79e5c81",
   "metadata": {},
   "outputs": [
    {
     "data": {
      "text/plain": [
       "tensor([0.1349, 0.5030, 0.1920, 0.2670, 0.2467, 0.2368, 0.1017, 0.4455, 0.0385,\n",
       "        0.1304])"
      ]
     },
     "execution_count": 115,
     "metadata": {},
     "output_type": "execute_result"
    }
   ],
   "source": [
    "Wr = watch[:,ridx] * 1.0\n",
    "Wt = watch[:,tidx] * 1.0\n",
    "Tr = timestamp[:,ridx]\n",
    "Tt = timestamp[:,tidx]\n",
    "\n",
    "with_time = False\n",
    "if with_time:\n",
    "    treatment_mask = (Wr > 0.5) & ( (Wr < 0.5) | (Tt < Tr))\n",
    "else:\n",
    "    treatment_mask = (Wt > 0.5)\n",
    "    \n",
    "control_mask = ~treatment_mask\n",
    "(Wr * treatment_mask).sum(dim=0) / treatment_mask.sum(dim=0) - (Wr * control_mask).sum(dim=0) / control_mask.sum(dim=0)\n"
   ]
  },
  {
   "cell_type": "code",
   "execution_count": 116,
   "id": "517615f2-db59-43cb-9693-f005f123470e",
   "metadata": {},
   "outputs": [
    {
     "data": {
      "text/plain": [
       "tensor([[1., 1., 1.,  ..., 1., 1., 1.],\n",
       "        [0., 0., 0.,  ..., 0., 0., 0.],\n",
       "        [0., 0., 0.,  ..., 0., 0., 0.],\n",
       "        ...,\n",
       "        [0., 0., 0.,  ..., 0., 0., 0.],\n",
       "        [0., 0., 0.,  ..., 0., 0., 0.],\n",
       "        [0., 1., 1.,  ..., 1., 0., 0.]])"
      ]
     },
     "execution_count": 116,
     "metadata": {},
     "output_type": "execute_result"
    }
   ],
   "source": [
    "Wr"
   ]
  },
  {
   "cell_type": "code",
   "execution_count": 117,
   "id": "30697416-0ff4-45b9-b07f-d0e477e13241",
   "metadata": {},
   "outputs": [
    {
     "data": {
      "text/plain": [
       "tensor([-0.1303, -0.0147, -0.0558, -0.0743, -0.2495,  0.3940, -0.2405,  0.2008,\n",
       "        -0.1920,  0.4156])"
      ]
     },
     "execution_count": 117,
     "metadata": {},
     "output_type": "execute_result"
    }
   ],
   "source": [
    "## correlation\n",
    "Mt = (Wt*1.0).mean(dim=1, keepdim=True)\n",
    "Mr = (Wr*1.0).mean(dim=1, keepdim=True)\n",
    "\n",
    "((Wt - Mt)*(Wr - Mr)).sum(dim=0) / torch.sqrt(((Wt-Mt)**2).sum(dim=0) * ((Wr-Mr)**2).sum(dim=0))"
   ]
  },
  {
   "cell_type": "code",
   "execution_count": 119,
   "id": "366ce599-b99b-4c72-af29-c02b4e05f2b0",
   "metadata": {},
   "outputs": [
    {
     "data": {
      "text/plain": [
       "tensor([1.7882, 2.3753, 1.8998, 2.1263, 1.7215, 3.9747, 1.9836, 2.1686, 1.2173,\n",
       "        4.0091])"
      ]
     },
     "execution_count": 119,
     "metadata": {},
     "output_type": "execute_result"
    }
   ],
   "source": [
    "(Wr * Wt).mean(dim=0) / (Wr.mean(dim=0) * Wt.mean(dim=0))"
   ]
  },
  {
   "cell_type": "code",
   "execution_count": 112,
   "id": "eb792cfd-7df2-4c80-9aba-36f0796c6e51",
   "metadata": {},
   "outputs": [],
   "source": [
    "#estaa"
   ]
  },
  {
   "cell_type": "code",
   "execution_count": null,
   "id": "59f4e038-0fc9-420d-80b9-ecd46cfba483",
   "metadata": {},
   "outputs": [],
   "source": []
  }
 ],
 "metadata": {
  "kernelspec": {
   "display_name": "Python 3 (ipykernel)",
   "language": "python",
   "name": "python3"
  },
  "language_info": {
   "codemirror_mode": {
    "name": "ipython",
    "version": 3
   },
   "file_extension": ".py",
   "mimetype": "text/x-python",
   "name": "python",
   "nbconvert_exporter": "python",
   "pygments_lexer": "ipython3",
   "version": "3.8.19"
  }
 },
 "nbformat": 4,
 "nbformat_minor": 5
}
