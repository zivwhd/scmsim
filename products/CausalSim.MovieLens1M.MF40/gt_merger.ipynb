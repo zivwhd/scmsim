{
 "cells": [
  {
   "cell_type": "code",
   "execution_count": 1,
   "id": "39f897ca",
   "metadata": {},
   "outputs": [],
   "source": [
    "import pandas as pd"
   ]
  },
  {
   "cell_type": "code",
   "execution_count": 2,
   "id": "715572cf",
   "metadata": {},
   "outputs": [
    {
     "name": "stdout",
     "output_type": "stream",
     "text": [
      "finished                    \n"
     ]
    }
   ],
   "source": [
    "for i in range(10, 20):\n",
    "    print(f\"loading gt.{i} ...\", end=\"\\r\")\n",
    "    new = pd.read_csv(f'gt.{i}.csv')\n",
    "    if i == 10:\n",
    "        gt_merged = new.copy()\n",
    "    else:\n",
    "        gt_merged = pd.merge(\n",
    "            left=gt_merged,\n",
    "            right=new,\n",
    "            how=\"outer\",\n",
    "            on = ['treatment_idx', 'resp_idx', 'ate']\n",
    "        )\n",
    "print(\"finished\"+\" \"*20)"
   ]
  },
  {
   "cell_type": "code",
   "execution_count": 3,
   "id": "d39d4b0b",
   "metadata": {},
   "outputs": [],
   "source": [
    "gt_merged.to_csv(\"gt_merged.csv\", index=False)"
   ]
  }
 ],
 "metadata": {
  "kernelspec": {
   "display_name": "Python 3",
   "language": "python",
   "name": "python3"
  },
  "language_info": {
   "codemirror_mode": {
    "name": "ipython",
    "version": 3
   },
   "file_extension": ".py",
   "mimetype": "text/x-python",
   "name": "python",
   "nbconvert_exporter": "python",
   "pygments_lexer": "ipython3",
   "version": "3.10.12"
  }
 },
 "nbformat": 4,
 "nbformat_minor": 5
}
